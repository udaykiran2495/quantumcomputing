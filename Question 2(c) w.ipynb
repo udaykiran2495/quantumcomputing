{
 "cells": [
  {
   "cell_type": "code",
   "execution_count": 1,
   "id": "d8c8141a",
   "metadata": {},
   "outputs": [],
   "source": [
    "X = [0.03, 0.09, 0.09, 0.18, 0.19, 0.42]\n",
    "\n"
   ]
  },
  {
   "cell_type": "code",
   "execution_count": 7,
   "id": "d667eb6d",
   "metadata": {},
   "outputs": [],
   "source": [
    "matrix = []\n",
    "\n",
    "for i in range(6):\n",
    "    row = []\n",
    "    for j in range(6):\n",
    "        row.append(round(X[i]*X[j],4))\n",
    "    matrix.append(row)\n",
    "\n",
    "\n",
    "    "
   ]
  },
  {
   "cell_type": "code",
   "execution_count": 3,
   "id": "137cc616",
   "metadata": {},
   "outputs": [
    {
     "name": "stdout",
     "output_type": "stream",
     "text": [
      "[[0.0009, 0.0026999999999999997, 0.0026999999999999997, 0.005399999999999999, 0.0057, 0.012599999999999998], [0.0026999999999999997, 0.0081, 0.0081, 0.0162, 0.0171, 0.0378], [0.0026999999999999997, 0.0081, 0.0081, 0.0162, 0.0171, 0.0378], [0.005399999999999999, 0.0162, 0.0162, 0.0324, 0.0342, 0.0756], [0.0057, 0.0171, 0.0171, 0.0342, 0.0361, 0.0798], [0.012599999999999998, 0.0378, 0.0378, 0.0756, 0.0798, 0.17639999999999997]]\n"
     ]
    }
   ],
   "source": [
    "print(matrix)"
   ]
  },
  {
   "cell_type": "code",
   "execution_count": 4,
   "id": "d332a63c",
   "metadata": {},
   "outputs": [],
   "source": [
    "matrix = []\n",
    "\n",
    "for i in range(6):\n",
    "    row = []\n",
    "    for j in range(6):\n",
    "        row.append(round(X[i]*X[j],4))\n",
    "    matrix.append(row)\n"
   ]
  },
  {
   "cell_type": "code",
   "execution_count": 5,
   "id": "001793ee",
   "metadata": {},
   "outputs": [
    {
     "name": "stdout",
     "output_type": "stream",
     "text": [
      "[[0.0009, 0.0027, 0.0027, 0.0054, 0.0057, 0.0126], [0.0027, 0.0081, 0.0081, 0.0162, 0.0171, 0.0378], [0.0027, 0.0081, 0.0081, 0.0162, 0.0171, 0.0378], [0.0054, 0.0162, 0.0162, 0.0324, 0.0342, 0.0756], [0.0057, 0.0171, 0.0171, 0.0342, 0.0361, 0.0798], [0.0126, 0.0378, 0.0378, 0.0756, 0.0798, 0.1764]]\n"
     ]
    }
   ],
   "source": [
    "print(matrix)"
   ]
  },
  {
   "cell_type": "code",
   "execution_count": 8,
   "id": "f16c017f",
   "metadata": {},
   "outputs": [
    {
     "name": "stdout",
     "output_type": "stream",
     "text": [
      "[0.0009, 0.0027, 0.0027, 0.0054, 0.0057, 0.0126, 0.0027, 0.0081, 0.0081, 0.0162, 0.0171, 0.0378, 0.0027, 0.0081, 0.0081, 0.0162, 0.0171, 0.0378, 0.0054, 0.0162, 0.0162, 0.0324, 0.0342, 0.0756, 0.0057, 0.0171, 0.0171, 0.0342, 0.0361, 0.0798, 0.0126, 0.0378, 0.0378, 0.0756, 0.0798, 0.1764]\n"
     ]
    }
   ],
   "source": [
    "Y = []\n",
    "\n",
    "for i in range(6):\n",
    "    for j in range(6):\n",
    "        Y.append(round(X[i]*X[j], 4))\n",
    "    \n",
    "print(Y)\n",
    "    "
   ]
  },
  {
   "cell_type": "code",
   "execution_count": 9,
   "id": "097a4849",
   "metadata": {},
   "outputs": [
    {
     "name": "stdout",
     "output_type": "stream",
     "text": [
      "4.406509538224994\n"
     ]
    }
   ],
   "source": [
    "import math\n",
    "\n",
    "entropy = 0\n",
    "for i in range(len(Y)):\n",
    "    logValue = math.log2(Y[i])\n",
    "    entropy += -Y[i]*logValue\n",
    "    \n",
    "print(entropy)"
   ]
  },
  {
   "cell_type": "code",
   "execution_count": 11,
   "id": "d0c9055b",
   "metadata": {},
   "outputs": [
    {
     "name": "stdout",
     "output_type": "stream",
     "text": [
      "Y:  [0.0009, 0.0027, 0.0027, 0.0054, 0.0057, 0.0126, 0.0027, 0.0081, 0.0081, 0.0162, 0.0171, 0.0378, 0.0027, 0.0081, 0.0081, 0.0162, 0.0171, 0.0378, 0.0054, 0.0162, 0.0162, 0.0324, 0.0342, 0.0756, 0.0057, 0.0171, 0.0171, 0.0342, 0.0361, 0.0798, 0.0126, 0.0378, 0.0378, 0.0756, 0.0798, 0.1764]\n"
     ]
    }
   ],
   "source": [
    "print(\"Y: \", Y)\n"
   ]
  },
  {
   "cell_type": "code",
   "execution_count": null,
   "id": "2d47cbd2",
   "metadata": {},
   "outputs": [],
   "source": []
  }
 ],
 "metadata": {
  "kernelspec": {
   "display_name": "Python 3 (ipykernel)",
   "language": "python",
   "name": "python3"
  },
  "language_info": {
   "codemirror_mode": {
    "name": "ipython",
    "version": 3
   },
   "file_extension": ".py",
   "mimetype": "text/x-python",
   "name": "python",
   "nbconvert_exporter": "python",
   "pygments_lexer": "ipython3",
   "version": "3.9.13"
  }
 },
 "nbformat": 4,
 "nbformat_minor": 5
}
